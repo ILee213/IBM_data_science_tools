{
 "cells": [
  {
   "cell_type": "markdown",
   "id": "48d5fa2c",
   "metadata": {},
   "source": [
    "# Data Science Tools and Ecosystem #"
   ]
  },
  {
   "cell_type": "markdown",
   "id": "791477a7",
   "metadata": {},
   "source": [
    "In this notebook, Data Science Tools and Ecosystem are summarized."
   ]
  },
  {
   "cell_type": "markdown",
   "id": "aedecdd1",
   "metadata": {},
   "source": [
    "Some of the popular languages that Data Scientists use are:\n",
    "1. Python\n",
    "2. R\n",
    "3. SQL"
   ]
  },
  {
   "cell_type": "markdown",
   "id": "8864685e",
   "metadata": {},
   "source": [
    "Some of the commonly used libraries used by Data Scientists include:\n",
    "1. dplyr\n",
    "2. leaflet\n",
    "3. ggplot"
   ]
  },
  {
   "cell_type": "markdown",
   "id": "e4c4ebd6",
   "metadata": {},
   "source": [
    "| Column 1 | Column 2 | Column 3 |\n",
    "|:--------:|:--------:|:--------:|\n",
    "|  Row 1   |  Row 1   |  Row 1   |\n",
    "\n",
    "|Data Science tools| column 2|column 3 |\n",
    "|:----:|:----:|:----:|\n",
    "|python|column 2|column 3 |\n",
    "|SQL|column 2|column 3 |"
   ]
  },
  {
   "cell_type": "markdown",
   "id": "52ae2053",
   "metadata": {},
   "source": [
    "### Below are a few examples of evaluating arithmetic expressions in Python ###"
   ]
  },
  {
   "cell_type": "code",
   "execution_count": 6,
   "id": "e2337bfe",
   "metadata": {},
   "outputs": [
    {
     "data": {
      "text/plain": [
       "17"
      ]
     },
     "execution_count": 6,
     "metadata": {},
     "output_type": "execute_result"
    }
   ],
   "source": [
    "(3*4)+5"
   ]
  },
  {
   "cell_type": "code",
   "execution_count": 12,
   "id": "8391dfdf",
   "metadata": {},
   "outputs": [
    {
     "name": "stdout",
     "output_type": "stream",
     "text": [
      "3.3333333333333335hours\n"
     ]
    }
   ],
   "source": [
    "minutes=200\n",
    "hours=minutes/60\n",
    "print(str(hours) + \"hours\")"
   ]
  },
  {
   "cell_type": "markdown",
   "id": "83efe5c9",
   "metadata": {},
   "source": [
    "**objectives**"
   ]
  },
  {
   "cell_type": "markdown",
   "id": "acd1595a",
   "metadata": {},
   "source": [
    "List popular languages for Data Science"
   ]
  },
  {
   "cell_type": "markdown",
   "id": "cd1b6751",
   "metadata": {},
   "source": [
    "## Author: Iris Lee ##"
   ]
  },
  {
   "cell_type": "code",
   "execution_count": null,
   "id": "7a92c638",
   "metadata": {},
   "outputs": [],
   "source": []
  }
 ],
 "metadata": {
  "kernelspec": {
   "display_name": "Python 3 (ipykernel)",
   "language": "python",
   "name": "python3"
  },
  "language_info": {
   "codemirror_mode": {
    "name": "ipython",
    "version": 3
   },
   "file_extension": ".py",
   "mimetype": "text/x-python",
   "name": "python",
   "nbconvert_exporter": "python",
   "pygments_lexer": "ipython3",
   "version": "3.11.5"
  }
 },
 "nbformat": 4,
 "nbformat_minor": 5
}
